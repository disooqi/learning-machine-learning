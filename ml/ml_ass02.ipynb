{
 "cells": [
  {
   "cell_type": "code",
   "execution_count": 1,
   "metadata": {
    "collapsed": true
   },
   "outputs": [],
   "source": [
    "import numpy as np\n",
    "from scipy import optimize\n",
    "from numpy import ones, zeros, column_stack, exp, dot, log, newaxis\n",
    "\n",
    "\n",
    "%matplotlib inline\n",
    "import matplotlib.pyplot as plt"
   ]
  },
  {
   "cell_type": "code",
   "execution_count": 2,
   "metadata": {},
   "outputs": [],
   "source": [
    "# data = load('ex2data1.txt');\n",
    "data = np.loadtxt('ex2data1.txt', delimiter=',')\n",
    "#X = data(:, [1, 2]); \n",
    "features = data[:,:2]\n",
    "#y = data(:, 3);\n",
    "y = data[:,2]"
   ]
  },
  {
   "cell_type": "markdown",
   "metadata": {},
   "source": [
    "Part 1: Plotting \n",
    "====================\n",
    "Plotting data with + indicating (y = 1) examples and o indicating (y = 0) examples.\n"
   ]
  },
  {
   "cell_type": "code",
   "execution_count": 3,
   "metadata": {},
   "outputs": [
    {
     "data": {
      "image/png": "[encoded data removed]",
      "text/plain": [
       "<matplotlib.figure.Figure at 0x7fca141c4400>"
      ]
     },
     "metadata": {},
     "output_type": "display_data"
    }
   ],
   "source": [
    "\n",
    "plt.scatter(features[y==0,0], features[y==0,1],color='y', marker='o', label='Not admitted')\n",
    "plt.scatter(features[y==1,0], features[y==1,1], color='k', marker='+', label='Admitted')\n",
    "\n",
    "plt.xlabel('Exam 1 score')\n",
    "plt.ylabel('Exam 2 score')\n",
    "plt.autoscale(tight=True)\n",
    "plt.legend(loc=3)\n",
    "plt.show()"
   ]
  },
  {
   "cell_type": "markdown",
   "metadata": {},
   "source": [
    "Part 2: Compute Cost and Gradient \n",
    "============\n",
    "\n",
    "In this part of the exercise, you will implement the cost and gradient\n",
    "for logistic regression. \n",
    "Setup the data matrix appropriately, and add ones for the intercept term"
   ]
  },
  {
   "cell_type": "code",
   "execution_count": 4,
   "metadata": {},
   "outputs": [
    {
     "data": {
      "text/plain": [
       "(100, 2)"
      ]
     },
     "execution_count": 4,
     "metadata": {},
     "output_type": "execute_result"
    }
   ],
   "source": [
    "m, n = features.shape\n",
    "features.shape"
   ]
  },
  {
   "cell_type": "code",
   "execution_count": 5,
   "metadata": {},
   "outputs": [],
   "source": [
    "X = column_stack((ones((m, 1)), features))"
   ]
  },
  {
   "cell_type": "code",
   "execution_count": 6,
   "metadata": {},
   "outputs": [],
   "source": [
    "initial_theta = zeros((n+1))"
   ]
  },
  {
   "cell_type": "code",
   "execution_count": 8,
   "metadata": {},
   "outputs": [],
   "source": [
    "# this is the hypothsis function h(X)\n",
    "def sigmoid(z): \n",
    "    return 1/(1+exp(-z))"
   ]
  },
  {
   "cell_type": "code",
   "execution_count": 9,
   "metadata": {},
   "outputs": [],
   "source": [
    "def costFunction(initial_theta, X, y):\n",
    "    # J = (-1/m) * sum(     y .* log(sigmoid(X*theta))     +     (1-y) .* log(1 - sigmoid(X*theta))     );\n",
    "    h_of_X = sigmoid(dot(X, initial_theta[:,newaxis]))\n",
    "    J = np.sum(-y[:, newaxis] * log(h_of_X) - \n",
    "                  (1-y[:, newaxis])*log(1-h_of_X))/X.shape[0]\n",
    "    return J"
   ]
  },
  {
   "cell_type": "code",
   "execution_count": 10,
   "metadata": {},
   "outputs": [],
   "source": [
    "def gradient(theta, X, y):\n",
    "    # grad = (1/m) *  ( (sigmoid(X*theta) - y)'  * X );\n",
    "    h_of_X = sigmoid(dot(X, theta[:,newaxis]))    \n",
    "    grad = dot(X.T,h_of_X-y[:, newaxis])/X.shape[0]\n",
    "    #print grad.flatten()\n",
    "\n",
    "    return grad.flatten()"
   ]
  },
  {
   "cell_type": "code",
   "execution_count": 11,
   "metadata": {},
   "outputs": [
    {
     "data": {
      "text/plain": [
       "array([ -0.1       , -12.00921659, -11.26284221])"
      ]
     },
     "execution_count": 11,
     "metadata": {},
     "output_type": "execute_result"
    }
   ],
   "source": [
    "initial_theta\n",
    "gradient(initial_theta, X, y)"
   ]
  },
  {
   "cell_type": "code",
   "execution_count": null,
   "metadata": {},
   "outputs": [],
   "source": []
  },
  {
   "cell_type": "code",
   "execution_count": null,
   "metadata": {},
   "outputs": [],
   "source": []
  },
  {
   "cell_type": "code",
   "execution_count": null,
   "metadata": {},
   "outputs": [],
   "source": []
  },
  {
   "cell_type": "code",
   "execution_count": 12,
   "metadata": {},
   "outputs": [],
   "source": [
    "# helpful links \n",
    "# http://stackoverflow.com/questions/18801002/fminunc-alternate-in-numpy\n",
    "# http://stackoverflow.com/questions/29229810/optimisation-using-scipy\n",
    "# http://docs.scipy.org/doc/scipy/reference/generated/scipy.optimize.minimize.html\n",
    "# http://docs.scipy.org/doc/scipy/reference/generated/scipy.optimize.fmin_bfgs.html\n",
    "# https://www.kunxi.org/notes/Machine_Learning/Logistic_Regression/\n",
    "# http://scikit-learn.org/stable/auto_examples/linear_model/plot_iris_logistic.html#example-linear-model-plot-iris-logistic-py\n",
    "# http://scikit-learn.org/stable/modules/generated/sklearn.linear_model.LogisticRegression.html\n",
    "# \n",
    "\n",
    "'''\n",
    "method : str or callable, optional\n",
    "Type of solver. Should be one of\n",
    "    ‘Nelder-Mead’ (see here)\n",
    "    ‘Powell’ (see here)\n",
    "    ‘CG’ (see here)\n",
    "    ‘BFGS’ (see here)\n",
    "    ‘Newton-CG’ (see here)\n",
    "    ‘L-BFGS-B’ (see here)\n",
    "    ‘TNC’ (see here)\n",
    "    ‘COBYLA’ (see here)\n",
    "    ‘SLSQP’ (see here)\n",
    "    ‘dogleg’ (see here)\n",
    "    ‘trust-ncg’ (see here)\n",
    "    custom - a callable object (added in version 0.14.0), see below for description.\n",
    "'''\n",
    "res = optimize.minimize(fun=costFunction, x0 =initial_theta, args=(X,y), method='TNC', jac=gradient)\n"
   ]
  },
  {
   "cell_type": "code",
   "execution_count": 13,
   "metadata": {},
   "outputs": [
    {
     "name": "stdout",
     "output_type": "stream",
     "text": [
      "For a student with scores 45 and 85, we predict an admission probability of  0.776290622946\n"
     ]
    }
   ],
   "source": [
    "s = np.array([1, 45, 85]).reshape((1,3))\n",
    "\n",
    "def predict(s):\n",
    "    return sigmoid(s.dot(res.x[:,newaxis]))\n",
    "print 'For a student with scores 45 and 85, we predict an admission probability of ', predict(s)[0,0]\n"
   ]
  },
  {
   "cell_type": "code",
   "execution_count": 22,
   "metadata": {},
   "outputs": [
    {
     "data": {
      "image/png": "[encoded data removed]",
      "text/plain": [
       "<matplotlib.figure.Figure at 0x7fc92cac2490>"
      ]
     },
     "metadata": {},
     "output_type": "display_data"
    }
   ],
   "source": [
    "plt.scatter(features[y==0,0], features[y==0,1],color='y', marker='o', label='Not admitted')\n",
    "plt.scatter(features[y==1,0], features[y==1,1], color='k', marker='+', label='Admitted')\n",
    "\n",
    "xex = np.linspace(25,100,50)\n",
    "yes = (res.x[0]+res.x[1]*xex)/-res.x[2]\n",
    "\n",
    "plt.plot(xex, yes, color='r', label='decision boundary')\n",
    "\n",
    "plt.xlabel('Exam 1 score')\n",
    "plt.ylabel('Exam 2 score')\n",
    "plt.autoscale(tight=True)\n",
    "plt.legend(loc=3)\n",
    "plt.show()"
   ]
  },
  {
   "cell_type": "code",
   "execution_count": 15,
   "metadata": {},
   "outputs": [
    {
     "name": "stdout",
     "output_type": "stream",
     "text": [
      "(100, 3)\n",
      "Train Accuracy:  95.0\n"
     ]
    }
   ],
   "source": [
    "# Compute accuracy on our training set\n",
    "\n",
    "print X.shape\n",
    "def predict(theta, X):\n",
    "    pred = sigmoid(X.dot(theta[:, newaxis]))\n",
    "    pred[pred<0.5]=0\n",
    "    pred[pred>=0.5]=1\n",
    "    return pred\n",
    "p =predict(res.x, X)\n",
    "p[p==y[:,newaxis]]=1\n",
    "\n",
    "print 'Train Accuracy: ',np.mean(p) * 100;"
   ]
  },
  {
   "cell_type": "markdown",
   "metadata": {},
   "source": [
    "## Classification Using Keras"
   ]
  },
  {
   "cell_type": "code",
   "execution_count": 7,
   "metadata": {},
   "outputs": [
    {
     "name": "stderr",
     "output_type": "stream",
     "text": [
      "Using TensorFlow backend.\n"
     ]
    }
   ],
   "source": [
    "from keras.models import Sequential     # adding elements(i.e. layers) into this model in a sequence\n",
    "from keras.layers import Dense\n",
    "from keras.optimizers import Adam, SGD"
   ]
  },
  {
   "cell_type": "code",
   "execution_count": 11,
   "metadata": {},
   "outputs": [
    {
     "name": "stdout",
     "output_type": "stream",
     "text": [
      "(100, 2)\n",
      "(100,)\n"
     ]
    }
   ],
   "source": [
    "print(features.shape)\n",
    "print(y.shape)"
   ]
  },
  {
   "cell_type": "code",
   "execution_count": 12,
   "metadata": {},
   "outputs": [
    {
     "name": "stdout",
     "output_type": "stream",
     "text": [
      "_________________________________________________________________\n",
      "Layer (type)                 Output Shape              Param #   \n",
      "=================================================================\n",
      "dense_2 (Dense)              (None, 1)                 3         \n",
      "=================================================================\n",
      "Total params: 3\n",
      "Trainable params: 3\n",
      "Non-trainable params: 0\n",
      "_________________________________________________________________\n"
     ]
    }
   ],
   "source": [
    "model = Sequential()\n",
    "model.add(Dense(1, input_shape=(2,), activation='sigmoid'))\n",
    "model.compile(SGD(lr=0.5), 'binary_crossentropy', metrics=['accuracy'])\n",
    "\n",
    "model.summary()"
   ]
  },
  {
   "cell_type": "code",
   "execution_count": 13,
   "metadata": {},
   "outputs": [
    {
     "name": "stdout",
     "output_type": "stream",
     "text": [
      "Epoch 1/25\n",
      "100/100 [==============================] - 0s - loss: 8.4929 - acc: 0.4600     \n",
      "Epoch 2/25\n",
      "100/100 [==============================] - 0s - loss: 9.6709 - acc: 0.4000      \n",
      "Epoch 3/25\n",
      "100/100 [==============================] - 0s - loss: 9.6709 - acc: 0.4000     \n",
      "Epoch 4/25\n",
      "100/100 [==============================] - 0s - loss: 9.6709 - acc: 0.4000      \n",
      "Epoch 5/25\n",
      "100/100 [==============================] - 0s - loss: 9.6709 - acc: 0.4000      \n",
      "Epoch 6/25\n",
      "100/100 [==============================] - 0s - loss: 9.6709 - acc: 0.4000      \n",
      "Epoch 7/25\n",
      "100/100 [==============================] - 0s - loss: 9.6709 - acc: 0.4000      \n",
      "Epoch 8/25\n",
      "100/100 [==============================] - 0s - loss: 9.6709 - acc: 0.4000     \n",
      "Epoch 9/25\n",
      "100/100 [==============================] - 0s - loss: 9.6709 - acc: 0.4000      \n",
      "Epoch 10/25\n",
      "100/100 [==============================] - 0s - loss: 9.6709 - acc: 0.4000      \n",
      "Epoch 11/25\n",
      "100/100 [==============================] - 0s - loss: 9.6709 - acc: 0.4000     \n",
      "Epoch 12/25\n",
      "100/100 [==============================] - 0s - loss: 9.6709 - acc: 0.4000     \n",
      "Epoch 13/25\n",
      "100/100 [==============================] - 0s - loss: 9.6709 - acc: 0.4000     \n",
      "Epoch 14/25\n",
      "100/100 [==============================] - 0s - loss: 9.6709 - acc: 0.4000      \n",
      "Epoch 15/25\n",
      "100/100 [==============================] - 0s - loss: 9.6709 - acc: 0.4000      \n",
      "Epoch 16/25\n",
      "100/100 [==============================] - 0s - loss: 9.6709 - acc: 0.4000     \n",
      "Epoch 17/25\n",
      "100/100 [==============================] - 0s - loss: 9.6709 - acc: 0.4000     \n",
      "Epoch 18/25\n",
      "100/100 [==============================] - 0s - loss: 9.6709 - acc: 0.4000      \n",
      "Epoch 19/25\n",
      "100/100 [==============================] - 0s - loss: 9.6709 - acc: 0.4000      \n",
      "Epoch 20/25\n",
      "100/100 [==============================] - 0s - loss: 9.6709 - acc: 0.4000     \n",
      "Epoch 21/25\n",
      "100/100 [==============================] - 0s - loss: 9.6709 - acc: 0.4000      \n",
      "Epoch 22/25\n",
      "100/100 [==============================] - 0s - loss: 9.6709 - acc: 0.4000      \n",
      "Epoch 23/25\n",
      "100/100 [==============================] - 0s - loss: 9.6709 - acc: 0.4000     \n",
      "Epoch 24/25\n",
      "100/100 [==============================] - 0s - loss: 9.6709 - acc: 0.4000      \n",
      "Epoch 25/25\n",
      "100/100 [==============================] - 0s - loss: 9.6709 - acc: 0.4000      \n"
     ]
    },
    {
     "data": {
      "text/plain": [
       "<keras.callbacks.History at 0x7fc9d65f8160>"
      ]
     },
     "execution_count": 13,
     "metadata": {},
     "output_type": "execute_result"
    }
   ],
   "source": [
    "model.fit(features, y, epochs=25)"
   ]
  },
  {
   "cell_type": "code",
   "execution_count": 22,
   "metadata": {},
   "outputs": [
    {
     "name": "stdout",
     "output_type": "stream",
     "text": [
      "The accuracy score is 0.400\n"
     ]
    }
   ],
   "source": [
    "# temp = np.random.randn(50, 2)\n",
    "y_class_pred = model.predict(features) > 0.5\n",
    "\n",
    "from sklearn.metrics import accuracy_score\n",
    "\n",
    "print(\"The accuracy score is {:0.3f}\".format(accuracy_score(y, y_class_pred)))"
   ]
  },
  {
   "cell_type": "code",
   "execution_count": 20,
   "metadata": {
    "collapsed": true
   },
   "outputs": [],
   "source": []
  },
  {
   "cell_type": "code",
   "execution_count": 21,
   "metadata": {},
   "outputs": [
    {
     "name": "stdout",
     "output_type": "stream",
     "text": [
      "The accuracy score is 0.400\n"
     ]
    }
   ],
   "source": []
  },
  {
   "cell_type": "code",
   "execution_count": null,
   "metadata": {
    "collapsed": true
   },
   "outputs": [],
   "source": []
  }
 ],
 "metadata": {
  "kernelspec": {
   "display_name": "Python 3",
   "language": "python",
   "name": "python3"
  },
  "language_info": {
   "codemirror_mode": {
    "name": "ipython",
    "version": 3
   },
   "file_extension": ".py",
   "mimetype": "text/x-python",
   "name": "python",
   "nbconvert_exporter": "python",
   "pygments_lexer": "ipython3",
   "version": "3.5.4"
  }
 },
 "nbformat": 4,
 "nbformat_minor": 1
}
