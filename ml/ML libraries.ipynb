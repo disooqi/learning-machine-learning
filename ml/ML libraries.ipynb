{
 "cells": [
  {
   "cell_type": "markdown",
   "metadata": {},
   "source": [
    "http://lasagne.readthedocs.io/en/latest/\n",
    "\n",
    "https://keras.io/\n",
    "\n",
    "http://blocks.readthedocs.io/en/latest/\n",
    "\n",
    "http://deeplearning.net/software/theano/\n",
    "\n",
    "https://radimrehurek.com/gensim/\n",
    "\n",
    "http://deeplearning.net/software/pylearn2/\n",
    "\n",
    "https://www.kunxi.org/notes/Machine_Learning/Neural_Network/\n"
   ]
  },
  {
   "cell_type": "code",
   "execution_count": null,
   "metadata": {
    "collapsed": true
   },
   "outputs": [],
   "source": []
  }
 ],
 "metadata": {
  "kernelspec": {
   "display_name": "Python [Root]",
   "language": "python",
   "name": "Python [Root]"
  },
  "language_info": {
   "codemirror_mode": {
    "name": "ipython",
    "version": 2
   },
   "file_extension": ".py",
   "mimetype": "text/x-python",
   "name": "python",
   "nbconvert_exporter": "python",
   "pygments_lexer": "ipython2",
   "version": "2.7.12"
  }
 },
 "nbformat": 4,
 "nbformat_minor": 0
}
