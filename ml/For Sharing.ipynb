{
 "cells": [
  {
   "cell_type": "code",
   "execution_count": 28,
   "metadata": {
    "collapsed": false
   },
   "outputs": [
    {
     "data": {
      "text/plain": [
       "u'nfshA'"
      ]
     },
     "execution_count": 28,
     "metadata": {},
     "output_type": "execute_result"
    }
   ],
   "source": [
    "ar = u\"\\u0627\\u0625\\u0622\\u0623\\u0621\\u0628\\u062a\\u062b\\u062c\\u062d\\u062e\\u062f\\u0630\\u0631\\u0632\\u0633\\u0634\\u0635\\u0636\\u0637\\u0638\\u0639\\u063a\\u0641\\u0642\\u0643\\u0644\\u0645\\u0646\\u0647\\u0648\\u064a\\u0649\\u0629\\u0624\\u0626\\u064e\\u064b\\u064f\\u064c\\u0650\\u064d\\u0652\\u0651\"\n",
    "buck = u\"A<|>'btvjHxd*rzs$SDTZEgfqklmnhwyYp&}aFuNiKo~\"\n",
    "buck_dict = dict()\n",
    "for a, b in zip(ar, buck):\n",
    "    buck_dict[a] = b\n",
    "    \n",
    "    \n",
    "def utf82buck(kdinput):\n",
    "    buck_list = list()\n",
    "    for ch in kdinput:\n",
    "        buck_list.append(buck_dict.get(ch, \"\"))\n",
    "    else:\n",
    "        return ''.join(buck_list)\n",
    "    \n",
    "utf82buck(u\"نفسها\")"
   ]
  },
  {
   "cell_type": "code",
   "execution_count": null,
   "metadata": {
    "collapsed": false
   },
   "outputs": [],
   "source": [
    "EndhA nfshA"
   ]
  },
  {
   "cell_type": "code",
   "execution_count": null,
   "metadata": {
    "collapsed": true
   },
   "outputs": [],
   "source": []
  }
 ],
 "metadata": {
  "kernelspec": {
   "display_name": "Python [Root]",
   "language": "python",
   "name": "Python [Root]"
  },
  "language_info": {
   "codemirror_mode": {
    "name": "ipython",
    "version": 2
   },
   "file_extension": ".py",
   "mimetype": "text/x-python",
   "name": "python",
   "nbconvert_exporter": "python",
   "pygments_lexer": "ipython2",
   "version": "2.7.12"
  }
 },
 "nbformat": 4,
 "nbformat_minor": 0
}
