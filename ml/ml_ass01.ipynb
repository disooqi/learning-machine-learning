{
 "cells": [
  {
   "cell_type": "markdown",
   "metadata": {},
   "source": [
    "warmUpExercise\n",
    "-----------------"
   ]
  },
  {
   "cell_type": "code",
   "execution_count": 37,
   "metadata": {
    "collapsed": true
   },
   "outputs": [],
   "source": [
    "import numpy as np\n",
    "from numpy import ones, zeros, dot, newaxis, column_stack, linspace, mean, std, divide\n",
    "from numpy.linalg import pinv\n",
    "import matplotlib.pyplot as plt\n",
    "from sklearn import datasets, linear_model\n",
    "from sklearn.metrics import r2_score, mean_squared_error as mse\n",
    "\n",
    "%matplotlib inline"
   ]
  },
  {
   "cell_type": "code",
   "execution_count": 2,
   "metadata": {},
   "outputs": [
    {
     "data": {
      "text/plain": [
       "array([[ 1.,  0.,  0.,  0.,  0.],\n",
       "       [ 0.,  1.,  0.,  0.,  0.],\n",
       "       [ 0.,  0.,  1.,  0.,  0.],\n",
       "       [ 0.,  0.,  0.,  1.,  0.],\n",
       "       [ 0.,  0.,  0.,  0.,  1.]])"
      ]
     },
     "execution_count": 2,
     "metadata": {},
     "output_type": "execute_result"
    }
   ],
   "source": [
    "np.identity(5)"
   ]
  },
  {
   "cell_type": "markdown",
   "metadata": {},
   "source": [
    "Part 2: Plotting\n",
    "-----------------"
   ]
  },
  {
   "cell_type": "code",
   "execution_count": 38,
   "metadata": {
    "collapsed": true
   },
   "outputs": [],
   "source": [
    "file_path = '/home/disooqi/ml/machine-learning-ex1/ex1/ex1data1.txt'\n",
    "# Load data from a text file.\n",
    "data = np.loadtxt('ex1data1.txt', delimiter=',')\n",
    "\n",
    "# Load data from a text file, with missing values handled as specified\n",
    "data01 = np.genfromtxt('ex1data1.txt', delimiter=',')\n",
    "\n",
    "# Construct an array from data in a text or binary file.\n",
    "data02 = np.fromfile('ex1data1.txt')"
   ]
  },
  {
   "cell_type": "code",
   "execution_count": 39,
   "metadata": {
    "collapsed": true
   },
   "outputs": [],
   "source": [
    "# X = data(:, 1); y = data(:, 2);\n",
    "X1 = data[:,0]\n",
    "y = data[:, 1]\n",
    "m = len(y)"
   ]
  },
  {
   "cell_type": "code",
   "execution_count": 40,
   "metadata": {},
   "outputs": [
    {
     "data": {
      "image/png": "[encoded data removed]",
      "text/plain": [
       "<matplotlib.figure.Figure at 0x7f3316b9a630>"
      ]
     },
     "metadata": {},
     "output_type": "display_data"
    }
   ],
   "source": [
    "plt.scatter(X1,y, color='r', marker='x')\n",
    "plt.title(\"Scatter plot of training data\")\n",
    "\n",
    "plt.xlabel(\"Profit in $10,000s\")\n",
    "plt.ylabel(\"Population of City in 10,000s\")\n",
    "plt.autoscale(tight=True)\n",
    "plt.grid()\n",
    "\n",
    "# plt.xticks(())\n",
    "# plt.yticks(())\n",
    "plt.show()"
   ]
  },
  {
   "cell_type": "markdown",
   "metadata": {},
   "source": [
    "Part 3: Gradient descent\n",
    "---------------------------"
   ]
  },
  {
   "cell_type": "code",
   "execution_count": 6,
   "metadata": {
    "collapsed": true
   },
   "outputs": [],
   "source": [
    "#% Add a column of ones to x to take into account the intercept term (θ0)\n",
    "X = np.column_stack((np.ones((m,1)),data[:,0]))\n",
    "\n",
    "#% initialize fitting parameters\n",
    "theta = np.zeros((2, 1))"
   ]
  },
  {
   "cell_type": "code",
   "execution_count": 7,
   "metadata": {
    "collapsed": true
   },
   "outputs": [],
   "source": [
    "#% Some gradient descent settings\n",
    "iterations = 1500\n",
    "alpha = 0.01"
   ]
  },
  {
   "cell_type": "code",
   "execution_count": 8,
   "metadata": {
    "collapsed": true
   },
   "outputs": [],
   "source": [
    "# feature scaling and mean normalization\n",
    "normalized_X = (X[:,1] - np.mean(X, axis=0)[1])/(np.max(X[:,1])-np.min(X[:,1]))\n",
    "normalized_X = np.column_stack((np.ones((m,1)),normalized_X))"
   ]
  },
  {
   "cell_type": "code",
   "execution_count": 9,
   "metadata": {
    "collapsed": true
   },
   "outputs": [],
   "source": [
    "#% compute and display initial cost\n",
    "def computeCost(X, y, theta):\n",
    "    m = len(y)\n",
    "    h = np.dot(X,theta)\n",
    "    return np.sum((h-y[:,newaxis])**2)/(2*m)"
   ]
  },
  {
   "cell_type": "code",
   "execution_count": 14,
   "metadata": {
    "collapsed": true
   },
   "outputs": [],
   "source": [
    "def gradientDescent(X, y, theta, alpha, num_iters):\n",
    "    '''GRADIENTDESCENT Performs gradient descent to learn theta\n",
    "    theta = GRADIENTDESENT(X, y, theta, alpha, num_iters) updates theta by \n",
    "    taking num_iters gradient steps with learning rate alpha'''\n",
    "    J_history = zeros((num_iters, 1))\n",
    "    m = len(y)\n",
    "    for i in range(num_iters):   # changed from xrange to range\n",
    "        J_history[i] = computeCost(X, y, theta)\n",
    "        h = dot(X, theta)\n",
    "        diff = h-y[:,newaxis]\n",
    "        # B = np.repeat(diff,2,1)\n",
    "        # theta = theta - (alpha/m) * (((X * theta) - y)'  *  X)';\n",
    "        theta = theta - (alpha/m)*dot(diff.T, X).T\n",
    "           \n",
    "    return theta, J_history"
   ]
  },
  {
   "cell_type": "code",
   "execution_count": 15,
   "metadata": {
    "collapsed": true
   },
   "outputs": [],
   "source": [
    "optimized_theta, J_history = gradientDescent(X, y, theta, alpha, iterations)"
   ]
  },
  {
   "cell_type": "code",
   "execution_count": 17,
   "metadata": {},
   "outputs": [
    {
     "name": "stdout",
     "output_type": "stream",
     "text": [
      "For population = 35,000, we predict a profit of  4519.7678677\n",
      "For population = 70,000, we predict a profit of  45342.4501294\n"
     ]
    }
   ],
   "source": [
    "predict1 = np.dot([1, 3.5], optimized_theta);\n",
    "predict2 = np.dot([1, 7], optimized_theta);\n",
    "\n",
    "print ('For population = 35,000, we predict a profit of ', 10000*predict1[0])\n",
    "print ('For population = 70,000, we predict a profit of ', 10000*predict2[0])"
   ]
  },
  {
   "cell_type": "code",
   "execution_count": 18,
   "metadata": {},
   "outputs": [
    {
     "data": {
      "image/png": "[encoded data removed]",
      "text/plain": [
       "<matplotlib.figure.Figure at 0x7f3344775b00>"
      ]
     },
     "metadata": {},
     "output_type": "display_data"
    }
   ],
   "source": [
    "# plot the linear fit\n",
    "plt.scatter(X1,y, color='black', marker='x')\n",
    "# draw vertical line from (70,100) to (70, 250)\n",
    "plt.plot(X1, dot(X,optimized_theta), 'r-', lw=0.1)\n",
    "plt.title(\"Scatter plot of training data\")\n",
    "\n",
    "plt.xlabel(\"Profit in $10,000s\")\n",
    "plt.ylabel(\"Population of City in 10,000s\")\n",
    "plt.autoscale(tight=True)\n",
    "plt.grid()\n",
    "\n",
    "# plt.xticks(())\n",
    "# plt.yticks(())\n",
    "plt.show()"
   ]
  },
  {
   "cell_type": "code",
   "execution_count": 69,
   "metadata": {},
   "outputs": [
    {
     "name": "stdout",
     "output_type": "stream",
     "text": [
      "10\n"
     ]
    },
    {
     "data": {
      "text/plain": [
       "(1500, 1)"
      ]
     },
     "execution_count": 69,
     "metadata": {},
     "output_type": "execute_result"
    }
   ],
   "source": [
    "alphas = linspace(0.00001, 0.00009, 10) #\n",
    "js = list()\n",
    "for a in alphas.flat:\n",
    "    optimized_theta, J_history = gradientDescent(X, y, theta, a, iterations)\n",
    "    js.append(J_history)\n",
    "print (len(js))\n",
    "js[0].shape"
   ]
  },
  {
   "cell_type": "code",
   "execution_count": 73,
   "metadata": {},
   "outputs": [
    {
     "data": {
      "image/png": "[encoded data removed]",
      "text/plain": [
       "<matplotlib.figure.Figure at 0x7f33169510f0>"
      ]
     },
     "metadata": {},
     "output_type": "display_data"
    }
   ],
   "source": [
    "# learning plot\n",
    "#plt.scatter(X1,y, color='black', marker='x')\n",
    "# draw vertical line from (70,100) to (70, 250)\n",
    "for i in range(len(js)):\n",
    "    plt.plot(np.arange(-1,1499), js[i], 'r-', lw=1)\n",
    "plt.title(\"Scatter plot of training data\")\n",
    "\n",
    "plt.xlabel(\"No. of Iterations\")\n",
    "plt.ylabel(\"Value of the Cost function\")\n",
    "plt.autoscale(tight=True)\n",
    "plt.grid()\n",
    "\n",
    "# plt.xticks(())\n",
    "# plt.yticks(())\n",
    "plt.show()"
   ]
  },
  {
   "cell_type": "markdown",
   "metadata": {},
   "source": [
    "## Examining the Effect of the Learning Rate using Keras"
   ]
  },
  {
   "cell_type": "code",
   "execution_count": 41,
   "metadata": {},
   "outputs": [],
   "source": [
    "import keras.backend as K\n",
    "from keras.models import Sequential\n",
    "from keras.layers import Dense, Activation\n",
    "from keras.optimizers import SGD, Adam"
   ]
  },
  {
   "cell_type": "code",
   "execution_count": 77,
   "metadata": {},
   "outputs": [
    {
     "data": {
      "image/png": "[encoded data removed]",
      "text/plain": [
       "<matplotlib.figure.Figure at 0x7f33162c4438>"
      ]
     },
     "metadata": {},
     "output_type": "display_data"
    }
   ],
   "source": [
    "alpha_cost_fns = list()\n",
    "for learning_rate in alphas:\n",
    "    K.clear_session()\n",
    "\n",
    "    model = Sequential()\n",
    "    model.add(Dense(1, input_shape=(1,), activation='linear'))\n",
    "\n",
    "    model.compile(SGD(lr=learning_rate), loss='mean_squared_error')\n",
    "                  #optimizer='sgd')\n",
    "\n",
    "    history = model.fit(X1, y, epochs=100, verbose=0)\n",
    "    plt.plot(np.arange(-1,99), history.history['loss'], 'r-', lw=1)\n",
    "\n",
    "plt.title(\"Scatter plot of training data\")\n",
    "\n",
    "plt.xlabel(\"No. of epochs\")\n",
    "plt.ylabel(\"Value of the loss\")\n",
    "plt.autoscale(tight=True)\n",
    "plt.grid()\n",
    "\n",
    "# plt.xticks(())\n",
    "# plt.yticks(())\n",
    "plt.show()"
   ]
  },
  {
   "cell_type": "code",
   "execution_count": 72,
   "metadata": {},
   "outputs": [
    {
     "data": {
      "text/plain": [
       "40"
      ]
     },
     "execution_count": 72,
     "metadata": {},
     "output_type": "execute_result"
    }
   ],
   "source": [
    "len(history.history['loss'])"
   ]
  },
  {
   "cell_type": "code",
   "execution_count": 22,
   "metadata": {},
   "outputs": [
    {
     "data": {
      "text/plain": [
       "((422, 1), (422,))"
      ]
     },
     "execution_count": 22,
     "metadata": {},
     "output_type": "execute_result"
    }
   ],
   "source": [
    "#http://scikit-learn.org/stable/auto_examples/linear_model/plot_ols.html\n",
    "# Load the diabetes dataset\n",
    "diabetes = datasets.load_diabetes()\n",
    "# Use only one feature\n",
    "diabetes_X = diabetes.data[:, np.newaxis, 2]\n",
    "# Split the data into training/testing sets\n",
    "diabetes_X_train = diabetes_X[:-20]\n",
    "diabetes_X_test = diabetes_X[-20:]\n",
    "\n",
    "# Split the targets into training/testing sets\n",
    "diabetes_y_train = diabetes.target[:-20]\n",
    "diabetes_y_test = diabetes.target[-20:]\n",
    "diabetes_X_train.shape, diabetes_y_train.shape"
   ]
  },
  {
   "cell_type": "code",
   "execution_count": 26,
   "metadata": {},
   "outputs": [
    {
     "name": "stdout",
     "output_type": "stream",
     "text": [
      "Coefficients:  [ 1.19303364]\n",
      "Residual sum of squares: 8.95\n",
      "Variance score: 0.70\n",
      "The R2 score is 0.702\n",
      "The Mean squared Error score is 8.954\n"
     ]
    }
   ],
   "source": [
    "# Create linear regression object\n",
    "regr = linear_model.LinearRegression()\n",
    "\n",
    "# Train the model using the training sets\n",
    "regr.fit(X1[:,newaxis], y)\n",
    "\n",
    "print ('Coefficients: ', regr.coef_)\n",
    "print(\"Residual sum of squares: %.2f\" % np.mean((regr.predict(X1[:,newaxis]) - y) ** 2))\n",
    "# Explained variance score: 1 is perfect prediction\n",
    "print('Variance score: %.2f' % regr.score(X1[:,newaxis], y))\n",
    "print(\"The R2 score is {:0.3f}\".format(r2_score(y, regr.predict(X1[:,newaxis]))))\n",
    "print(\"The Mean squared Error score is {:0.3f}\".format(mse(y, regr.predict(X1[:,newaxis]))))"
   ]
  },
  {
   "cell_type": "code",
   "execution_count": 18,
   "metadata": {},
   "outputs": [
    {
     "data": {
      "image/png": "[encoded data removed]",
      "text/plain": [
       "<matplotlib.figure.Figure at 0x7f032fff89d0>"
      ]
     },
     "metadata": {},
     "output_type": "display_data"
    }
   ],
   "source": [
    "# Plot outputs\n",
    "plt.scatter(X1[:,newaxis], y,  color='black')\n",
    "plt.plot(X1[:,newaxis], regr.predict(X1[:,newaxis]), color='blue',\n",
    "         linewidth=3)\n",
    "\n",
    "plt.xticks(())\n",
    "plt.yticks(())\n",
    "\n",
    "plt.show()"
   ]
  },
  {
   "cell_type": "code",
   "execution_count": 19,
   "metadata": {},
   "outputs": [
    {
     "data": {
      "image/png": "[encoded data removed]",
      "text/plain": [
       "<matplotlib.figure.Figure at 0x7f033004d610>"
      ]
     },
     "metadata": {},
     "output_type": "display_data"
    }
   ],
   "source": [
    "# plot the linear fit\n",
    "plt.scatter(X1,y, color='black', marker='x')\n",
    "# draw vertical line from (70,100) to (70, 250)\n",
    "plt.plot(X1, dot(X,optimized_theta), 'r-', lw=0.1)\n",
    "plt.plot(X1[:,newaxis], regr.predict(X1[:,newaxis]), color='blue',\n",
    "         linewidth=1)\n",
    "plt.title(\"Scatter plot of training data\")\n",
    "\n",
    "plt.xlabel(\"Profit in $10,000s\")\n",
    "plt.ylabel(\"Population of City in 10,000s\")\n",
    "plt.autoscale(tight=True)\n",
    "plt.grid()\n",
    "\n",
    "# plt.xticks(())\n",
    "# plt.yticks(())\n",
    "plt.show()"
   ]
  },
  {
   "cell_type": "markdown",
   "metadata": {},
   "source": [
    "------\n",
    "Optional Exercises\n",
    "=========\n",
    "Linear regression with multiple variables"
   ]
  },
  {
   "cell_type": "code",
   "execution_count": 20,
   "metadata": {
    "collapsed": true
   },
   "outputs": [],
   "source": [
    "# Load data from a text file.\n",
    "data = np.loadtxt('ex1data2.txt', delimiter=',')\n",
    "\n",
    "# Load data from a text file, with missing values handled as specified\n",
    "data01 = np.genfromtxt('ex1data2.txt', delimiter=',')\n",
    "\n",
    "# Construct an array from data in a text or binary file.\n",
    "data02 = np.fromfile('ex1data2.txt')"
   ]
  },
  {
   "cell_type": "code",
   "execution_count": 21,
   "metadata": {
    "collapsed": true
   },
   "outputs": [],
   "source": [
    "X = data[:,:2]\n",
    "y = data[:, 2]\n",
    "m = len(y)"
   ]
  },
  {
   "cell_type": "code",
   "execution_count": 22,
   "metadata": {},
   "outputs": [
    {
     "name": "stdout",
     "output_type": "stream",
     "text": [
      "First 10 examples from the dataset:\n",
      "[[  2.10400000e+03   3.00000000e+00]\n",
      " [  1.60000000e+03   3.00000000e+00]\n",
      " [  2.40000000e+03   3.00000000e+00]\n",
      " [  1.41600000e+03   2.00000000e+00]\n",
      " [  3.00000000e+03   4.00000000e+00]\n",
      " [  1.98500000e+03   4.00000000e+00]\n",
      " [  1.53400000e+03   3.00000000e+00]\n",
      " [  1.42700000e+03   3.00000000e+00]\n",
      " [  1.38000000e+03   3.00000000e+00]\n",
      " [  1.49400000e+03   3.00000000e+00]]\n",
      "[[ 399900.]\n",
      " [ 329900.]\n",
      " [ 369000.]\n",
      " [ 232000.]\n",
      " [ 539900.]\n",
      " [ 299900.]\n",
      " [ 314900.]\n",
      " [ 198999.]\n",
      " [ 212000.]\n",
      " [ 242500.]]\n"
     ]
    }
   ],
   "source": [
    "print 'First 10 examples from the dataset:'\n",
    "print X[:10,:]\n",
    "print y[:10][:,newaxis]"
   ]
  },
  {
   "cell_type": "markdown",
   "metadata": {},
   "source": [
    "Normalizing Features\n",
    "--------------------"
   ]
  },
  {
   "cell_type": "code",
   "execution_count": 23,
   "metadata": {
    "collapsed": true
   },
   "outputs": [],
   "source": [
    "def featureNormalize(X):\n",
    "    if X.ndim == 2:\n",
    "        col_count = X.shape[1]\n",
    "    mu = zeros((1, col_count))\n",
    "    sigma = zeros((1, col_count))\n",
    "    \n",
    "    mu = mean(X, axis=0)\n",
    "    sigma = std(X, axis=0)\n",
    "    \n",
    "    return divide(X-mu, sigma), mu, sigma"
   ]
  },
  {
   "cell_type": "code",
   "execution_count": 24,
   "metadata": {
    "collapsed": true
   },
   "outputs": [],
   "source": [
    "normalized_X, X_mean, X_sigma = featureNormalize(X)"
   ]
  },
  {
   "cell_type": "code",
   "execution_count": 25,
   "metadata": {
    "collapsed": true
   },
   "outputs": [],
   "source": [
    "X = column_stack((ones((m, 1)), normalized_X))"
   ]
  },
  {
   "cell_type": "code",
   "execution_count": 26,
   "metadata": {
    "collapsed": true
   },
   "outputs": [],
   "source": [
    "alpha = 0.01\n",
    "num_iters = 400"
   ]
  },
  {
   "cell_type": "code",
   "execution_count": 27,
   "metadata": {
    "collapsed": true
   },
   "outputs": [],
   "source": [
    "theta = zeros((3,1))"
   ]
  },
  {
   "cell_type": "code",
   "execution_count": 28,
   "metadata": {
    "collapsed": true
   },
   "outputs": [],
   "source": [
    "optimized_theta, J_history = gradientDescent(X, y, theta, alpha, num_iters)"
   ]
  },
  {
   "cell_type": "code",
   "execution_count": 29,
   "metadata": {},
   "outputs": [
    {
     "data": {
      "image/png": "[encoded data removed]",
      "text/plain": [
       "<matplotlib.figure.Figure at 0x7f032ffbed50>"
      ]
     },
     "metadata": {},
     "output_type": "display_data"
    }
   ],
   "source": [
    "# learning plot\n",
    "#plt.scatter(X1,y, color='black', marker='x')\n",
    "# draw vertical line from (70,100) to (70, 250)\n",
    "#for i in range(10):\n",
    "plt.plot(np.arange(-1,num_iters-1), J_history, 'g-', lw=3)\n",
    "plt.title(\"Scatter plot of training data\")\n",
    "\n",
    "plt.xlabel(\"No. of Iterations\")\n",
    "plt.ylabel(\"Value of the Cost function\")\n",
    "#plt.autoscale(tight=True)\n",
    "plt.grid()\n",
    "\n",
    "# plt.xticks(())\n",
    "# plt.yticks(())\n",
    "plt.show()"
   ]
  },
  {
   "cell_type": "code",
   "execution_count": 30,
   "metadata": {},
   "outputs": [
    {
     "name": "stdout",
     "output_type": "stream",
     "text": [
      "Predicted price of a 1650 sq-ft, 3 br house (using gradient descent):\n",
      "289221.547371\n"
     ]
    }
   ],
   "source": [
    "print 'Predicted price of a 1650 sq-ft, 3 br house (using gradient descent):'\n",
    "x = np.array([1650, 3]).reshape((1,2))\n",
    "norm_x = divide(x-X_mean, X_sigma)\n",
    "\n",
    "print dot(column_stack(([1], norm_x)), optimized_theta)[0,0]"
   ]
  },
  {
   "cell_type": "markdown",
   "metadata": {},
   "source": [
    "Part 3: Normal Equations\n",
    "==\n"
   ]
  },
  {
   "cell_type": "code",
   "execution_count": 31,
   "metadata": {
    "collapsed": true
   },
   "outputs": [],
   "source": [
    "def normalEqn(X, y):\n",
    "    '''return: optimized theta'''\n",
    "    return dot(dot(pinv(dot(X.T, X)), X.T), y)"
   ]
  },
  {
   "cell_type": "code",
   "execution_count": 32,
   "metadata": {},
   "outputs": [
    {
     "name": "stdout",
     "output_type": "stream",
     "text": [
      "Theta computed from the normal equations:  [[ 340412.65957447]\n",
      " [ 109447.79646964]\n",
      " [  -6578.35485416]]\n"
     ]
    }
   ],
   "source": [
    "otheta = normalEqn(X, y)[:,newaxis]\n",
    "print 'Theta computed from the normal equations: ', otheta"
   ]
  },
  {
   "cell_type": "code",
   "execution_count": 33,
   "metadata": {},
   "outputs": [
    {
     "name": "stdout",
     "output_type": "stream",
     "text": [
      "Predicted price of a 1650 sq-ft, 3 br house (using Normal Equations): 293081.464335\n"
     ]
    }
   ],
   "source": [
    "print 'Predicted price of a 1650 sq-ft, 3 br house (using Normal Equations):', \\\n",
    "dot(column_stack(([1], norm_x)),otheta)[0,0]"
   ]
  },
  {
   "cell_type": "code",
   "execution_count": 34,
   "metadata": {},
   "outputs": [
    {
     "data": {
      "text/plain": [
       "array([ 293081.4643349])"
      ]
     },
     "execution_count": 34,
     "metadata": {},
     "output_type": "execute_result"
    }
   ],
   "source": [
    "# Create linear regression object\n",
    "regr = linear_model.LinearRegression()\n",
    "\n",
    "# Train the model using the training sets\n",
    "regr.fit(X[:,1:],y)\n",
    "\n",
    "regr.predict(norm_x)"
   ]
  },
  {
   "cell_type": "markdown",
   "metadata": {
    "collapsed": true
   },
   "source": [
    "# http://scikit-learn.org/stable/auto_examples/linear_model/plot_polynomial_interpolation.html\n"
   ]
  },
  {
   "cell_type": "markdown",
   "metadata": {
    "collapsed": true
   },
   "source": [
    "## Linear Regression with Keras"
   ]
  },
  {
   "cell_type": "code",
   "execution_count": 2,
   "metadata": {},
   "outputs": [
    {
     "name": "stderr",
     "output_type": "stream",
     "text": [
      "Using TensorFlow backend.\n"
     ]
    }
   ],
   "source": [
    "from keras.models import Sequential     # adding elements into this model in a sequence\n",
    "from keras.layers import Dense\n",
    "from keras.optimizers import Adam, SGD"
   ]
  },
  {
   "cell_type": "code",
   "execution_count": 25,
   "metadata": {
    "collapsed": true
   },
   "outputs": [],
   "source": [
    "model = Sequential()"
   ]
  },
  {
   "cell_type": "code",
   "execution_count": 26,
   "metadata": {
    "collapsed": true
   },
   "outputs": [],
   "source": [
    "model.add(Dense(1, input_shape=(1,)))"
   ]
  },
  {
   "cell_type": "code",
   "execution_count": 27,
   "metadata": {},
   "outputs": [
    {
     "name": "stdout",
     "output_type": "stream",
     "text": [
      "_________________________________________________________________\n",
      "Layer (type)                 Output Shape              Param #   \n",
      "=================================================================\n",
      "dense_5 (Dense)              (None, 1)                 2         \n",
      "=================================================================\n",
      "Total params: 2\n",
      "Trainable params: 2\n",
      "Non-trainable params: 0\n",
      "_________________________________________________________________\n"
     ]
    }
   ],
   "source": [
    "model.summary()"
   ]
  },
  {
   "cell_type": "code",
   "execution_count": 51,
   "metadata": {},
   "outputs": [
    {
     "name": "stdout",
     "output_type": "stream",
     "text": [
      "Epoch 1/40\n",
      "97/97 [==============================] - 0s - loss: 21.5524     \n",
      "Epoch 2/40\n",
      "97/97 [==============================] - 0s - loss: 37.5917     \n",
      "Epoch 3/40\n",
      "97/97 [==============================] - 0s - loss: 45.1855     \n",
      "Epoch 4/40\n",
      "97/97 [==============================] - 0s - loss: 19.5264     \n",
      "Epoch 5/40\n",
      "97/97 [==============================] - 0s - loss: 46.1624     \n",
      "Epoch 6/40\n",
      "97/97 [==============================] - 0s - loss: 12.4132     \n",
      "Epoch 7/40\n",
      "97/97 [==============================] - 0s - loss: 29.6052     \n",
      "Epoch 8/40\n",
      "97/97 [==============================] - 0s - loss: 10.1441    \n",
      "Epoch 9/40\n",
      "97/97 [==============================] - 0s - loss: 15.5812     \n",
      "Epoch 10/40\n",
      "97/97 [==============================] - 0s - loss: 8.8372     \n",
      "Epoch 11/40\n",
      "97/97 [==============================] - 0s - loss: 12.8737     \n",
      "Epoch 12/40\n",
      "97/97 [==============================] - 0s - loss: 10.7032    \n",
      "Epoch 13/40\n",
      "97/97 [==============================] - 0s - loss: 9.6612      \n",
      "Epoch 14/40\n",
      "97/97 [==============================] - 0s - loss: 9.8778      \n",
      "Epoch 15/40\n",
      "97/97 [==============================] - 0s - loss: 9.4735      \n",
      "Epoch 16/40\n",
      "97/97 [==============================] - 0s - loss: 11.0949    \n",
      "Epoch 17/40\n",
      "97/97 [==============================] - 0s - loss: 10.1364    \n",
      "Epoch 18/40\n",
      "97/97 [==============================] - 0s - loss: 11.1282     \n",
      "Epoch 19/40\n",
      "97/97 [==============================] - 0s - loss: 9.7571     \n",
      "Epoch 20/40\n",
      "97/97 [==============================] - 0s - loss: 13.0426     \n",
      "Epoch 21/40\n",
      "97/97 [==============================] - 0s - loss: 15.8199     \n",
      "Epoch 22/40\n",
      "97/97 [==============================] - 0s - loss: 12.9580     \n",
      "Epoch 23/40\n",
      "97/97 [==============================] - 0s - loss: 11.0077     \n",
      "Epoch 24/40\n",
      "97/97 [==============================] - 0s - loss: 11.1616     \n",
      "Epoch 25/40\n",
      "97/97 [==============================] - 0s - loss: 10.5654    \n",
      "Epoch 26/40\n",
      "97/97 [==============================] - 0s - loss: 9.7946     \n",
      "Epoch 27/40\n",
      "97/97 [==============================] - 0s - loss: 10.0407     \n",
      "Epoch 28/40\n",
      "97/97 [==============================] - 0s - loss: 10.6302    \n",
      "Epoch 29/40\n",
      "97/97 [==============================] - 0s - loss: 11.4964     \n",
      "Epoch 30/40\n",
      "97/97 [==============================] - 0s - loss: 11.0877    \n",
      "Epoch 31/40\n",
      "97/97 [==============================] - 0s - loss: 36.9949     \n",
      "Epoch 32/40\n",
      "97/97 [==============================] - 0s - loss: 10.4868     \n",
      "Epoch 33/40\n",
      "97/97 [==============================] - 0s - loss: 15.1767     \n",
      "Epoch 34/40\n",
      "97/97 [==============================] - 0s - loss: 10.6061    \n",
      "Epoch 35/40\n",
      "97/97 [==============================] - 0s - loss: 9.6297      \n",
      "Epoch 36/40\n",
      "97/97 [==============================] - 0s - loss: 10.2828    \n",
      "Epoch 37/40\n",
      "97/97 [==============================] - 0s - loss: 10.4679     \n",
      "Epoch 38/40\n",
      "97/97 [==============================] - 0s - loss: 10.2408     \n",
      "Epoch 39/40\n",
      "97/97 [==============================] - 0s - loss: 10.1520    \n",
      "Epoch 40/40\n",
      "97/97 [==============================] - 0s - loss: 17.7826     \n"
     ]
    },
    {
     "data": {
      "image/png": "[encoded data removed]",
      "text/plain": [
       "<matplotlib.figure.Figure at 0x7f4c066a4cd0>"
      ]
     },
     "metadata": {},
     "output_type": "display_data"
    }
   ],
   "source": [
    "model.compile(Adam(lr=0.8), 'mean_squared_error')\n",
    "model.fit(X1, y, epochs=40)\n",
    "\n",
    "y_pred = model.predict(X1)\n",
    "\n",
    "ax = plt.scatter(X1, y)\n",
    "plt.plot(X1, y_pred, color='blue',\n",
    "         linewidth=1)\n",
    "plt.xlabel(\"Time (min)\")\n",
    "plt.ylabel(\"Buy\")\n",
    "plt.autoscale(tight=True)\n",
    "plt.grid()\n"
   ]
  },
  {
   "cell_type": "code",
   "execution_count": 54,
   "metadata": {},
   "outputs": [
    {
     "name": "stdout",
     "output_type": "stream",
     "text": [
      "W =  [[ 1.28640068]]\n",
      "B =  [-3.35283661]\n"
     ]
    }
   ],
   "source": [
    "W, B = model.get_weights()\n",
    "print 'W = ', W\n",
    "print 'B = ', B"
   ]
  },
  {
   "cell_type": "code",
   "execution_count": null,
   "metadata": {
    "collapsed": true
   },
   "outputs": [],
   "source": []
  }
 ],
 "metadata": {
  "kernelspec": {
   "display_name": "Python 3",
   "language": "python",
   "name": "python3"
  },
  "language_info": {
   "codemirror_mode": {
    "name": "ipython",
    "version": 3
   },
   "file_extension": ".py",
   "mimetype": "text/x-python",
   "name": "python",
   "nbconvert_exporter": "python",
   "pygments_lexer": "ipython3",
   "version": "3.5.4"
  }
 },
 "nbformat": 4,
 "nbformat_minor": 1
}
