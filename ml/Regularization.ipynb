{
 "cells": [
  {
   "cell_type": "code",
   "execution_count": 1,
   "metadata": {
    "collapsed": true
   },
   "outputs": [],
   "source": [
    "import numpy as np\n",
    "from   numpy import ones, append, ones_like, zeros, newaxis, log, dot\n",
    "from scipy.optimize import minimize, fmin_bfgs\n",
    "\n",
    "from sklearn import linear_model\n",
    "import matplotlib.pyplot as plt\n",
    "\n",
    "%matplotlib inline\n",
    "#%matplotlib notebook"
   ]
  },
  {
   "cell_type": "code",
   "execution_count": 2,
   "metadata": {
    "collapsed": false
   },
   "outputs": [],
   "source": [
    "data = np.loadtxt('ex2data2.txt', delimiter=',')"
   ]
  },
  {
   "cell_type": "code",
   "execution_count": 3,
   "metadata": {
    "collapsed": false
   },
   "outputs": [
    {
     "name": "stdout",
     "output_type": "stream",
     "text": [
      "(118, 2) (118,)\n"
     ]
    }
   ],
   "source": [
    "features = data[:,:2]\n",
    "y = data[:,2]\n",
    "\n",
    "print features.shape, y.shape"
   ]
  },
  {
   "cell_type": "code",
   "execution_count": 4,
   "metadata": {
    "collapsed": false
   },
   "outputs": [
    {
     "data": {
      "image/png": "[encoded data removed]",
      "text/plain": [
       "<matplotlib.figure.Figure at 0x7f49f124a710>"
      ]
     },
     "metadata": {},
     "output_type": "display_data"
    }
   ],
   "source": [
    "plt.scatter(features[y==1,0], features[y==1,1], marker='+', c='k', label='y = 1', alpha=0.9, s = 40)\n",
    "plt.scatter(features[y==0,0], features[y==0,1], marker='o', c='y', label='y = 0', alpha=0.5, s = 40)\n",
    "plt.grid()\n",
    "plt.xlabel(\"Microchip Test 1\")\n",
    "plt.ylabel(\"Microchip Test 2\")\n",
    "plt.legend()\n",
    "plt.show()"
   ]
  },
  {
   "cell_type": "markdown",
   "metadata": {},
   "source": [
    "# Part 1: Regularized Logistic Regression\n"
   ]
  },
  {
   "cell_type": "code",
   "execution_count": 5,
   "metadata": {
    "collapsed": true
   },
   "outputs": [],
   "source": [
    "# Adding intercept term\n"
   ]
  },
  {
   "cell_type": "code",
   "execution_count": 6,
   "metadata": {
    "collapsed": true
   },
   "outputs": [],
   "source": [
    "def map_feature(x1, x2):\n",
    "    '''\n",
    "    Maps the two input features to quadratic features.\n",
    "    Returns a new feature array with more features, comprising of\n",
    "    X1, X2, X1 ** 2, X2 ** 2, X1*X2, X1*X2 ** 2, etc...\n",
    "    Inputs X1, X2 must be the same size\n",
    "    '''\n",
    "    x1.shape = (x1.size, 1)\n",
    "    x2.shape = (x2.size, 1)\n",
    "    degree = 6\n",
    "    out = ones(shape=(x1[:, 0].size, 1))\n",
    "\n",
    "    m, n = out.shape\n",
    "\n",
    "    for i in range(1, degree + 1):\n",
    "        for j in range(i + 1):\n",
    "            r = (x1 ** (i - j)) * (x2 ** j)\n",
    "            out = append(out, r, axis=1)\n",
    "\n",
    "    return out\n",
    "\n",
    "# def map_feature(features, degree=6):\n",
    "#     # out = ones(size(X1(:,1)));\n",
    "#     out = ones_like(features[:,0:1])\n",
    "    \n",
    "#     for i in xrange(1, degree + 1):\n",
    "#         for j in xrange(i+1):\n",
    "            \n",
    "#     print out"
   ]
  },
  {
   "cell_type": "code",
   "execution_count": 7,
   "metadata": {
    "collapsed": false
   },
   "outputs": [
    {
     "data": {
      "text/plain": [
       "(118, 28)"
      ]
     },
     "execution_count": 7,
     "metadata": {},
     "output_type": "execute_result"
    }
   ],
   "source": [
    "X = map_feature(features[:,0], features[:,1])\n",
    "X.shape"
   ]
  },
  {
   "cell_type": "code",
   "execution_count": 8,
   "metadata": {
    "collapsed": false
   },
   "outputs": [
    {
     "data": {
      "text/plain": [
       "(28, 1)"
      ]
     },
     "execution_count": 8,
     "metadata": {},
     "output_type": "execute_result"
    }
   ],
   "source": [
    "initial_theta = zeros((X.shape[1], 1))\n",
    "initial_theta.shape"
   ]
  },
  {
   "cell_type": "code",
   "execution_count": 9,
   "metadata": {
    "collapsed": false
   },
   "outputs": [],
   "source": [
    "regularization_parameter_lambda = 1\n",
    "\n",
    "C= 1/regularization_parameter_lambda"
   ]
  },
  {
   "cell_type": "code",
   "execution_count": 10,
   "metadata": {
    "collapsed": true
   },
   "outputs": [],
   "source": [
    "def sigmoid(z): \n",
    "    return 1/(1+np.exp(-z))"
   ]
  },
  {
   "cell_type": "code",
   "execution_count": 11,
   "metadata": {
    "collapsed": false
   },
   "outputs": [
    {
     "name": "stdout",
     "output_type": "stream",
     "text": [
      "[[ 0.69314718]]\n"
     ]
    }
   ],
   "source": [
    "def costFunctionReg(theta, X, y, rp_lambda):\n",
    "    m, _ = X.shape\n",
    "    h = sigmoid(X.dot(theta))\n",
    "    \n",
    "    # J = (1/m)   *   sum(-y .* log(A)- (1-y) .* log(1-A)  )  +   (lambda/(2*m)) * sum(theta(2:end) .^ 2);\n",
    "    J = np.sum(-y[:, newaxis] * log(h) - \n",
    "                  (1-y[:, newaxis])*log(1-h))/m + (rp_lambda/(2*m)) * theta[1:].T.dot(theta[1:])\n",
    "    return J\n",
    "\n",
    "def gradientReg(theta, X, y, rp_lambda):\n",
    "    m, _ = X.shape                \n",
    "    # grr =   (1/m) * (  (sigmoid(X * theta) - y)' *  X );\n",
    "    # grad =  grr' +   ((lambda/m) * [0; theta(2:end)]);\n",
    "    h = sigmoid(dot(X, theta[:,newaxis]))\n",
    "    theta_temp = theta.copy()\n",
    "    theta_temp[0]=0\n",
    "    p1 = dot(X.T,h-y[:, newaxis])/m\n",
    "    p2 = (rp_lambda/m) * theta_temp[:,newaxis]\n",
    "    grad = p1 + p2\n",
    "    return grad.flatten()\n",
    "\n",
    "print costFunctionReg(initial_theta, X, y, regularization_parameter_lambda)"
   ]
  },
  {
   "cell_type": "code",
   "execution_count": 12,
   "metadata": {
    "collapsed": false
   },
   "outputs": [
    {
     "name": "stdout",
     "output_type": "stream",
     "text": [
      "Optimization terminated successfully.\n",
      "         Current function value: 81.774417\n",
      "         Iterations: 19\n",
      "         Function evaluations: 720\n",
      "         Gradient evaluations: 24\n",
      "[ -3.38533435e-02   7.71798632e-05   4.85487711e-05  -2.76452719e-04\n",
      "   2.00139142e-06  -3.06408415e-04  -7.76791887e-05  -1.26876732e-04\n",
      "  -3.69938149e-04  -2.49036403e-05   4.29263735e-04   1.15380798e-04\n",
      "   4.35855227e-04   3.43044533e-05   5.56410092e-04  -6.52471511e-05\n",
      "  -1.13672933e-04   3.40933908e-05  -5.87299666e-05   7.54168627e-05\n",
      "  -2.28115235e-04  -1.31667600e-04   2.76221023e-05   2.17641784e-04\n",
      "   4.89811094e-05  -1.82202113e-05   2.21517329e-04  -9.33708771e-05]\n"
     ]
    },
    {
     "data": {
      "text/plain": [
       "(81.791304607993112, 81.77441734683805)"
      ]
     },
     "execution_count": 12,
     "metadata": {},
     "output_type": "execute_result"
    }
   ],
   "source": [
    "res = minimize(fun=costFunctionReg, x0 =initial_theta, args=(X,y, 100), method='TNC', jac=gradientReg)\n",
    "fmin_bfgs_res = fmin_bfgs(f=costFunctionReg, x0 =initial_theta, args=(X,y, 0.1), maxiter=400)#\n",
    "#print res.x\n",
    "print fmin_bfgs_res\n",
    "costFunctionReg(res.x, X, y, 1), costFunctionReg(fmin_bfgs_res, X, y, 1)"
   ]
  },
  {
   "cell_type": "code",
   "execution_count": 13,
   "metadata": {
    "collapsed": false
   },
   "outputs": [],
   "source": [
    "logreg1 = linear_model.LogisticRegression(C=1)\n",
    "logreg2 = linear_model.LogisticRegression(C=1e5)"
   ]
  },
  {
   "cell_type": "code",
   "execution_count": 14,
   "metadata": {
    "collapsed": false
   },
   "outputs": [
    {
     "data": {
      "text/plain": [
       "LogisticRegression(C=100000.0, class_weight=None, dual=False,\n",
       "          fit_intercept=True, intercept_scaling=1, max_iter=100,\n",
       "          multi_class='ovr', n_jobs=1, penalty='l2', random_state=None,\n",
       "          solver='liblinear', tol=0.0001, verbose=0, warm_start=False)"
      ]
     },
     "execution_count": 14,
     "metadata": {},
     "output_type": "execute_result"
    }
   ],
   "source": [
    "logreg1.fit(X, y)\n",
    "logreg2.fit(X, y)"
   ]
  },
  {
   "cell_type": "markdown",
   "metadata": {},
   "source": [
    " The idea is simple to plot the non-linear decision boundry by computing the classifier's predictions on an evenly spaced grid and then drew a contour plot of where the predictions change from y=0 to y=1.\n",
    "---"
   ]
  },
  {
   "cell_type": "code",
   "execution_count": 15,
   "metadata": {
    "collapsed": false
   },
   "outputs": [
    {
     "data": {
      "image/png": "[encoded data removed]",
      "text/plain": [
       "<matplotlib.figure.Figure at 0x7f49eeb4f890>"
      ]
     },
     "metadata": {},
     "output_type": "display_data"
    }
   ],
   "source": [
    "# https://www.kunxi.org/notes/Machine_Learning/Logistic_Regression/\n",
    "\n",
    "\n",
    "\n",
    "plt.scatter(features[y==1,0], features[y==1,1], marker='+', c='k', label='y = 1', alpha=0.9, s = 40)\n",
    "plt.scatter(features[y==0,0], features[y==0,1], marker='o', c='y', label='y = 0', alpha=0.5, s = 40)\n",
    "plt.grid()\n",
    "\n",
    "dim = np.linspace(-1, 1.5, 50)\n",
    "dx, dy = np.meshgrid(dim, dim)\n",
    "\n",
    "# Another way\n",
    "# # Plot the decision boundary. For that, we will assign a color to each\n",
    "# # point in the mesh [x_min, m_max]x[y_min, y_max].\n",
    "# x_min, x_max = X[:, 0].min() - .5, X[:, 0].max() + .5\n",
    "# y_min, y_max = X[:, 1].min() - .5, X[:, 1].max() + .5\n",
    "# xx, yy = np.meshgrid(np.arange(x_min, x_max, h), np.arange(y_min, y_max, h))\n",
    "\n",
    "v = map_feature(dx.flatten(), dy.flatten())\n",
    "\n",
    "\n",
    "\n",
    "z = logreg1.predict(v)\n",
    "z2 = np.dot(logreg1.coef_, v.T) + logreg1.intercept_\n",
    "z3 = v.dot(res.x[:,newaxis])\n",
    "z4 = v.dot(fmin_bfgs_res[:,newaxis])\n",
    "\n",
    "z = z.reshape(dx.shape)\n",
    "z2 = z2.reshape(dx.shape)\n",
    "z3 = z3.reshape(dx.shape)\n",
    "z4 = z4.reshape(dx.shape)\n",
    "\n",
    "CS = plt.contour(dx, dy, z, levels=[0], colors=['r'], label='decision boundry')\n",
    "CS = plt.contour(dx, dy, z2, levels=[0], colors=['g'], label='decision boundry')\n",
    "CS = plt.contour(dx, dy, z3, levels=[0], colors=['b'], label='decision boundry')\n",
    "CS = plt.contour(dx, dy, z4, levels=[0], colors=['b'], label='decision boundry')\n",
    "plt.xlabel(\"Microchip Test 1\")\n",
    "plt.ylabel(\"Microchip Test 2\")\n",
    "plt.legend()\n",
    "plt.show()"
   ]
  },
  {
   "cell_type": "code",
   "execution_count": null,
   "metadata": {
    "collapsed": true
   },
   "outputs": [],
   "source": []
  }
 ],
 "metadata": {
  "kernelspec": {
   "display_name": "Python [Root]",
   "language": "python",
   "name": "Python [Root]"
  },
  "language_info": {
   "codemirror_mode": {
    "name": "ipython",
    "version": 2
   },
   "file_extension": ".py",
   "mimetype": "text/x-python",
   "name": "python",
   "nbconvert_exporter": "python",
   "pygments_lexer": "ipython2",
   "version": "2.7.12"
  }
 },
 "nbformat": 4,
 "nbformat_minor": 0
}
