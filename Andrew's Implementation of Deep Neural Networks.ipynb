{
 "cells": [
  {
   "cell_type": "code",
   "execution_count": null,
   "metadata": {
    "collapsed": true
   },
   "outputs": [],
   "source": []
  },
  {
   "cell_type": "markdown",
   "metadata": {},
   "source": [
    "## Implementing of the derivatives of activation funvtion"
   ]
  },
  {
   "cell_type": "markdown",
   "metadata": {},
   "source": [
    "This is the answer of my post of asking about the implementation of both relu_backward and sigmoid backward functions. You can find the post in the following link: https://www.coursera.org/learn/neural-networks-deep-learning/discussions/weeks/4/threads/fTxHrZWuEeefMg4iLVonpg\n",
    "\n",
    "The following code computes **`sigmoid_backward`** and **`relu_backward`**"
   ]
  },
  {
   "cell_type": "code",
   "execution_count": 2,
   "metadata": {
    "collapsed": true
   },
   "outputs": [],
   "source": [
    "def relu_backward(dA, activation_cache):\n",
    "    Z = activation_cache\n",
    "    return np.where(Z > 0, dA, 0.)\n",
    "\n",
    "def sigmoid_backward(dA, activation_cache):\n",
    "    Z = activation_cache\n",
    "    sigma = (1 + np.exp(-Z))**-1\n",
    "    return dA * sigma * (1 - sigma)"
   ]
  },
  {
   "cell_type": "markdown",
   "metadata": {},
   "source": [
    "If $g(.)$ is the activation function, \n",
    "`sigmoid_backward` and `relu_backward` compute $$dZ^{[l]} = dA^{[l]} * g'(Z^{[l]}) \\tag{1}$$.\n",
    "\n",
    "```python\n",
    "linear_cache, activation_cache = cache        \n",
    "if activation == \"relu\":        \n",
    "    ### START CODE HERE ### (≈ 2 lines of code)        \n",
    "    dgZ = (activation_cache > 0)        \n",
    "    dZ = np.multiply(dA, dgZ)        \n",
    "    dA_prev, dW, db = linear_backward(dZ, linear_cache)        \n",
    "    ### END CODE HERE ###           \n",
    "elif activation == \"sigmoid\":        \n",
    "    ### START CODE HERE ### (≈ 2 lines of code)        \n",
    "    A, activ_cache =  sigmoid(activation_cache)        \n",
    "    dgZ = np.multiply(A, 1-A)        \n",
    "    dZ = np.multiply(dA, dgZ)        \n",
    "    dA_prev, dW, db = linear_backward(dZ, linear_cache)\n",
    "    ### END CODE HERE ###\n",
    "```\n",
    "I found it in the following post https://www.coursera.org/learn/neural-networks-deep-learning/discussions/weeks/4/threads/Glj3bI1pEee9mg5rYUeLcg"
   ]
  },
  {
   "cell_type": "code",
   "execution_count": null,
   "metadata": {
    "collapsed": true
   },
   "outputs": [],
   "source": []
  }
 ],
 "metadata": {
  "kernelspec": {
   "display_name": "Python 3",
   "language": "python",
   "name": "python3"
  },
  "language_info": {
   "codemirror_mode": {
    "name": "ipython",
    "version": 3
   },
   "file_extension": ".py",
   "mimetype": "text/x-python",
   "name": "python",
   "nbconvert_exporter": "python",
   "pygments_lexer": "ipython3",
   "version": "3.6.4"
  }
 },
 "nbformat": 4,
 "nbformat_minor": 2
}
