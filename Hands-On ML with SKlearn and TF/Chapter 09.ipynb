{
 "cells": [
  {
   "cell_type": "code",
   "execution_count": 1,
   "metadata": {},
   "outputs": [],
   "source": [
    "import tensorflow as tf"
   ]
  },
  {
   "cell_type": "markdown",
   "metadata": {},
   "source": [
    "### Build you First Graph (construction phase)"
   ]
  },
  {
   "cell_type": "code",
   "execution_count": 2,
   "metadata": {},
   "outputs": [],
   "source": [
    "# the next 2 lines does not initialize the variables\n",
    "x = tf.Variable(3, name='x')\n",
    "y = tf.Variable(4, name='y')\n",
    "\n",
    "# this line does not do any computation. it just creates a computation Graph\n",
    "f = x*x*y + y + 2"
   ]
  },
  {
   "cell_type": "markdown",
   "metadata": {},
   "source": [
    "To evaluate a tensorflow graph you need to open a Tensorflow session.\n",
    "Use session to:\n",
    "1. Initialize the variables, and\n",
    "2. evaluate the graph\n",
    "\n",
    "A TensorFlow session takes care of placing the operations onto devices such as CPUs and GPUs and running them, and it holds all the variable values."
   ]
  },
  {
   "cell_type": "markdown",
   "metadata": {},
   "source": [
    "### Open your First Session (execution phase)"
   ]
  },
  {
   "cell_type": "code",
   "execution_count": 5,
   "metadata": {},
   "outputs": [
    {
     "name": "stdout",
     "output_type": "stream",
     "text": [
      "42\n"
     ]
    }
   ],
   "source": [
    "sess_01 = tf.Session()\n",
    "sess_01.run(x.initializer)\n",
    "sess_01.run(y.initializer)\n",
    "\n",
    "result = sess_01.run(f)\n",
    "print(result)\n",
    "\n",
    "sess_01.close()"
   ]
  },
  {
   "cell_type": "markdown",
   "metadata": {},
   "source": [
    "Having to repeat `sess_01.run()` all the time is a bit cumbersome, but fortunatly there is a better way:"
   ]
  },
  {
   "cell_type": "code",
   "execution_count": 11,
   "metadata": {},
   "outputs": [
    {
     "name": "stdout",
     "output_type": "stream",
     "text": [
      "42\n"
     ]
    }
   ],
   "source": [
    "# using \"with\" keyword sets the session as default\n",
    "# the session is automatically closed at the end of the block\n",
    "with tf.Session() as sess_02:\n",
    "    # equivalent to tf.get_default_session().run(x.initializer)\n",
    "    x.initializer.run()\n",
    "    y.initializer.run()\n",
    "    \n",
    "    result = f.eval()\n",
    "\n",
    "print(result)"
   ]
  },
  {
   "cell_type": "markdown",
   "metadata": {},
   "source": [
    "### global_variables_initializer()\n",
    "* use this function instead of manually running the initializer for every single variable.\n",
    "* the function does not perform the initialization immediately, but rather creates a node in the graph that will initialize all variables when it is run. "
   ]
  },
  {
   "cell_type": "code",
   "execution_count": 15,
   "metadata": {},
   "outputs": [
    {
     "name": "stdout",
     "output_type": "stream",
     "text": [
      "42\n"
     ]
    }
   ],
   "source": [
    "init = tf.global_variables_initializer() # prepare init node\n",
    "\n",
    "with tf.Session() as sess_02:\n",
    "    init.run() # actual initialization of all variables\n",
    "    result = f.eval()\n",
    "\n",
    "print(result)"
   ]
  },
  {
   "cell_type": "code",
   "execution_count": 20,
   "metadata": {},
   "outputs": [],
   "source": [
    "init = tf.global_variables_initializer() # prepare init node\n",
    "\n",
    "grapha = tf.Graph()\n",
    "with grapha.as_default():\n",
    "    a = tf.Variable(3)\n",
    "\n",
    "graphb = tf.Graph()\n",
    "with graphb.as_default():\n",
    "    b = tf.Variable(7)\n",
    "\n",
    "a.graph, b.graph\n",
    "\n",
    "with tf.Session() as sess:\n",
    "    init.run()\n",
    "    \n"
   ]
  }
 ],
 "metadata": {
  "kernelspec": {
   "display_name": "Python 3",
   "language": "python",
   "name": "python3"
  },
  "language_info": {
   "codemirror_mode": {
    "name": "ipython",
    "version": 3
   },
   "file_extension": ".py",
   "mimetype": "text/x-python",
   "name": "python",
   "nbconvert_exporter": "python",
   "pygments_lexer": "ipython3",
   "version": "3.6.4"
  }
 },
 "nbformat": 4,
 "nbformat_minor": 2
}
